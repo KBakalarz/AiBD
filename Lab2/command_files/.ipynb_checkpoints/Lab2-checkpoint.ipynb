{
 "cells": [
  {
   "cell_type": "code",
   "execution_count": 1,
   "id": "a7637d04",
   "metadata": {},
   "outputs": [],
   "source": [
    "import pandas as pd \n",
    "\n"
   ]
  },
  {
   "cell_type": "code",
   "execution_count": 5,
   "id": "624843d6",
   "metadata": {},
   "outputs": [],
   "source": [
    "od_drinks = pd.read_csv(\"../original_data/drinks.csv\")"
   ]
  },
  {
   "cell_type": "code",
   "execution_count": 9,
   "id": "91cd3b89",
   "metadata": {},
   "outputs": [],
   "source": [
    "delete = []\n",
    "for i, data in od_drinks.total_litres_of_pure_alcohol.iteritems():\n",
    "    if data == 0:\n",
    "        delete.append(i)\n",
    "        \n",
    "df = od_drinks.drop(delete, axis=0)\n",
    "\n",
    "df.to_csv(\"../analysis_data/output_file.csv\", index=False)\n",
    "\n",
    "\n"
   ]
  },
  {
   "cell_type": "code",
   "execution_count": null,
   "id": "6bc11851",
   "metadata": {},
   "outputs": [],
   "source": []
  },
  {
   "cell_type": "code",
   "execution_count": null,
   "id": "f05b9bf3",
   "metadata": {},
   "outputs": [],
   "source": []
  }
 ],
 "metadata": {
  "kernelspec": {
   "display_name": "Python 3",
   "language": "python",
   "name": "python3"
  },
  "language_info": {
   "codemirror_mode": {
    "name": "ipython",
    "version": 3
   },
   "file_extension": ".py",
   "mimetype": "text/x-python",
   "name": "python",
   "nbconvert_exporter": "python",
   "pygments_lexer": "ipython3",
   "version": "3.8.8"
  }
 },
 "nbformat": 4,
 "nbformat_minor": 5
}
